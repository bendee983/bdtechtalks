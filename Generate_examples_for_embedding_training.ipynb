{
  "nbformat": 4,
  "nbformat_minor": 0,
  "metadata": {
    "colab": {
      "provenance": []
    },
    "kernelspec": {
      "name": "python3",
      "display_name": "Python 3"
    },
    "language_info": {
      "name": "python"
    }
  },
  "cells": [
    {
      "cell_type": "code",
      "execution_count": null,
      "metadata": {
        "id": "zxNSe5AdIu6X"
      },
      "outputs": [],
      "source": [
        "# install libraries\n",
        "!pip install langchain\n",
        "!pip install openai"
      ]
    },
    {
      "cell_type": "code",
      "source": [
        "#import libraries\n",
        "\n",
        "import openai\n",
        "from langchain.prompts.chat import (\n",
        "    ChatPromptTemplate,\n",
        "    HumanMessagePromptTemplate,\n",
        "    SystemMessagePromptTemplate,\n",
        ")\n",
        "from langchain.schema import HumanMessage, SystemMessage\n",
        "from langchain.chat_models import ChatOpenAI"
      ],
      "metadata": {
        "id": "RvznLBHvMkpG"
      },
      "execution_count": 9,
      "outputs": []
    },
    {
      "cell_type": "code",
      "source": [
        "# Generate list of high-level tasks with GPT-4\n",
        "# Don't forget to enter your API key\n",
        "\n",
        "llm = ChatOpenAI(api_key=\"ENTER YOUR KEY HERE\",\n",
        "                 model_name=\"gpt-4\")\n",
        "messages = [\n",
        "    HumanMessage(\n",
        "        content=\n",
        "\"\"\"\n",
        "Brainstorm 10 potentially useful text retrieval tasks.\n",
        "Here are a few examples for your reference:\n",
        "- Provided a scientific claim as query, retrieve documents that help verify or refute the claim.\n",
        "- Search for documents that answers a FAQ-style query on children's nutrition.\n",
        "Please adhere to the following guidelines:\n",
        "- Specify what the query is, and what the desired documents are.\n",
        "- Each retrieval task should cover a wide range of queries, and should not be too specific.\n",
        "Your output should always be a python list of strings only, with exactly 10 elements, and each element corresponds to a distinct retrieval task in one sentence. Do not explain yourself or output anything else. Be creative!\n",
        "\"\"\"\n",
        "    )\n",
        "]\n",
        "result = llm(messages)\n",
        "tasks = eval(result.content)\n",
        "tasks"
      ],
      "metadata": {
        "colab": {
          "base_uri": "https://localhost:8080/"
        },
        "id": "cqRqNFilMu5b",
        "outputId": "5f9da047-dcfe-4400-9a7e-aa2d1634a3ad"
      },
      "execution_count": 24,
      "outputs": [
        {
          "output_type": "stream",
          "name": "stderr",
          "text": [
            "/usr/local/lib/python3.10/dist-packages/langchain_core/_api/deprecation.py:189: LangChainDeprecationWarning: The class `ChatOpenAI` was deprecated in LangChain 0.1.0 and will be removed in 0.2.0. Use langchain_openai.ChatOpenAI instead.\n",
            "  warn_deprecated(\n",
            "/usr/local/lib/python3.10/dist-packages/langchain_core/_api/deprecation.py:189: LangChainDeprecationWarning: The function `__call__` was deprecated in LangChain 0.1.7 and will be removed in 0.2.0. Use invoke instead.\n",
            "  warn_deprecated(\n"
          ]
        },
        {
          "output_type": "execute_result",
          "data": {
            "text/plain": [
              "['Retrieve legal documents that provide information on a specific law or legal term provided in the query.',\n",
              " 'Search for news articles that discuss a particular event or topic specified in the query.',\n",
              " 'Find cooking recipes that match the specific ingredients listed in the query.',\n",
              " 'Retrieve medical research papers that discuss a specific disease or medical condition provided in the query.',\n",
              " 'Search for blog posts or articles that provide tips and advice on a specific hobby or interest included in the query.',\n",
              " 'Find movie or book reviews that discuss a specific movie or book mentioned in the query.',\n",
              " 'Retrieve scholarly articles that discuss a specific theory or concept in a field of study specified in the query.',\n",
              " 'Search for forum threads or social media posts that discuss a specific product or brand mentioned in the query.',\n",
              " 'Find documents that contain the historical timeline or events related to a specific era or event mentioned in the query.',\n",
              " 'Retrieve song lyrics that contain specific words or phrases provided in the query.']"
            ]
          },
          "metadata": {},
          "execution_count": 24
        }
      ]
    },
    {
      "cell_type": "code",
      "source": [
        "# generate one example task in JSON format\n",
        "\n",
        "# you can change this template based based on your requirements (length of prompt, style of prompt, length of output documents, language, etc.)\n",
        "template = (\n",
        "    \"\"\"\n",
        "    You have been assigned a retrieval task: {task}\n",
        "Your mission is to write one text retrieval example for this task in JSON format. The JSON object must contain the following keys:\n",
        "- \"user_query\": a string, a random user search query specified by the retrieval task.\n",
        "- \"positive_document\": a string, a relevant document for the user query.\n",
        "- \"hard_negative_document\": a string, a hard negative document that only appears relevant to the query.\n",
        "Please adhere to the following guidelines:\n",
        "- The \"user_query\" should be 10-20 words, clear, and diverse in topic.\n",
        "- All documents should be at least 150 words long.\n",
        "- Both the query and documents should be in English.\n",
        "Your output must always be a JSON object only, do not explain yourself or output anything else. Be creative!\n",
        "    \"\"\"\n",
        ")\n",
        "\n",
        "prompt = ChatPromptTemplate.from_messages([\n",
        "    (HumanMessagePromptTemplate.from_template(template))\n",
        "])\n",
        "\n",
        "# you can put this part in a loop to create more examples\n",
        "result = llm(prompt.format_prompt(task=tasks[0]).to_messages())\n",
        "result.content\n"
      ],
      "metadata": {
        "colab": {
          "base_uri": "https://localhost:8080/",
          "height": 252
        },
        "id": "3se3r85qXGV3",
        "outputId": "75647908-bec4-4647-d1d2-9ca082a3f3f3"
      },
      "execution_count": 34,
      "outputs": [
        {
          "output_type": "stream",
          "name": "stderr",
          "text": [
            "/usr/local/lib/python3.10/dist-packages/langchain_core/_api/deprecation.py:189: LangChainDeprecationWarning: The function `__call__` was deprecated in LangChain 0.1.7 and will be removed in 0.2.0. Use invoke instead.\n",
            "  warn_deprecated(\n"
          ]
        },
        {
          "output_type": "execute_result",
          "data": {
            "text/plain": [
              "'{\\n  \"user_query\": \"What are the legal implications and regulations regarding the formation of a Limited Liability Company in California?\",\\n  \"positive_document\": \"The formation of a Limited Liability Company (LLC) in California requires compliance with certain laws and regulations. First, you need to file the Articles of Organization (Form LLC-1) with the Secretary of State. The document must include the name of the LLC, the purpose of the LLC, and the name and address of the registered agent. The LLC name must be unique and not confusingly similar to any existing name on record with the California Secretary of State. The registered agent must be a resident of California. An initial Statement of Information (Form LLC-12) must be filed within 90 days after filing the Articles of Organization. The filing fee for the Articles of Organization is $70 and for the Statement of Information is $20. The LLC is also subject to an $800 annual tax by the Franchise Tax Board.\",\\n  \"hard_negative_document\": \"In California, the formation of a Corporation involves several steps and requirements. First, you must file Articles of Incorporation with the Secretary of State. This document must include the corporation’s name, its purpose, and the name and address of the agent for service of process. The corporation’s name should be unique and not deceptively similar to any existing names on record with the Secretary of State. The agent for service of process must be a California resident. The corporation must also file a Statement of Information (Form SI-550) within 90 days of filing the Articles of Incorporation. The filing fee for the Articles of Incorporation is $100 and for the Statement of Information is $25. The corporation is also subject to an $800 minimum franchise tax.\"\\n}'"
            ],
            "application/vnd.google.colaboratory.intrinsic+json": {
              "type": "string"
            }
          },
          "metadata": {},
          "execution_count": 34
        }
      ]
    }
  ]
}